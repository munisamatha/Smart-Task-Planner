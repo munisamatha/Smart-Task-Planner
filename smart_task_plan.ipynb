{
 "cells": [
  {
   "cell_type": "code",
   "execution_count": 1,
   "id": "e421a92b",
   "metadata": {},
   "outputs": [
    {
     "name": "stdout",
     "output_type": "stream",
     "text": [
      "Requirement already satisfied: fastapi in c:\\users\\hp\\appdata\\local\\programs\\python\\python313\\lib\\site-packages (0.119.0)\n",
      "Requirement already satisfied: uvicorn in c:\\users\\hp\\appdata\\local\\programs\\python\\python313\\lib\\site-packages (0.37.0)\n",
      "Requirement already satisfied: nest_asyncio in c:\\users\\hp\\appdata\\roaming\\python\\python313\\site-packages (1.6.0)\n",
      "Requirement already satisfied: pydantic in c:\\users\\hp\\appdata\\local\\programs\\python\\python313\\lib\\site-packages (2.12.2)\n",
      "Requirement already satisfied: httpx in c:\\users\\hp\\appdata\\local\\programs\\python\\python313\\lib\\site-packages (0.28.1)\n",
      "Requirement already satisfied: python-dotenv in c:\\users\\hp\\appdata\\local\\programs\\python\\python313\\lib\\site-packages (1.1.1)\n",
      "Requirement already satisfied: openai in c:\\users\\hp\\appdata\\local\\programs\\python\\python313\\lib\\site-packages (2.3.0)\n",
      "Requirement already satisfied: starlette<0.49.0,>=0.40.0 in c:\\users\\hp\\appdata\\local\\programs\\python\\python313\\lib\\site-packages (from fastapi) (0.48.0)\n",
      "Requirement already satisfied: typing-extensions>=4.8.0 in c:\\users\\hp\\appdata\\local\\programs\\python\\python313\\lib\\site-packages (from fastapi) (4.15.0)\n",
      "Requirement already satisfied: annotated-types>=0.6.0 in c:\\users\\hp\\appdata\\local\\programs\\python\\python313\\lib\\site-packages (from pydantic) (0.7.0)\n",
      "Requirement already satisfied: pydantic-core==2.41.4 in c:\\users\\hp\\appdata\\local\\programs\\python\\python313\\lib\\site-packages (from pydantic) (2.41.4)\n",
      "Requirement already satisfied: typing-inspection>=0.4.2 in c:\\users\\hp\\appdata\\local\\programs\\python\\python313\\lib\\site-packages (from pydantic) (0.4.2)\n",
      "Requirement already satisfied: anyio<5,>=3.6.2 in c:\\users\\hp\\appdata\\local\\programs\\python\\python313\\lib\\site-packages (from starlette<0.49.0,>=0.40.0->fastapi) (4.11.0)\n",
      "Requirement already satisfied: idna>=2.8 in c:\\users\\hp\\appdata\\local\\programs\\python\\python313\\lib\\site-packages (from anyio<5,>=3.6.2->starlette<0.49.0,>=0.40.0->fastapi) (3.11)\n",
      "Requirement already satisfied: sniffio>=1.1 in c:\\users\\hp\\appdata\\local\\programs\\python\\python313\\lib\\site-packages (from anyio<5,>=3.6.2->starlette<0.49.0,>=0.40.0->fastapi) (1.3.1)\n",
      "Requirement already satisfied: click>=7.0 in c:\\users\\hp\\appdata\\local\\programs\\python\\python313\\lib\\site-packages (from uvicorn) (8.3.0)\n",
      "Requirement already satisfied: h11>=0.8 in c:\\users\\hp\\appdata\\local\\programs\\python\\python313\\lib\\site-packages (from uvicorn) (0.16.0)\n",
      "Requirement already satisfied: certifi in c:\\users\\hp\\appdata\\local\\programs\\python\\python313\\lib\\site-packages (from httpx) (2025.10.5)\n",
      "Requirement already satisfied: httpcore==1.* in c:\\users\\hp\\appdata\\local\\programs\\python\\python313\\lib\\site-packages (from httpx) (1.0.9)\n",
      "Requirement already satisfied: distro<2,>=1.7.0 in c:\\users\\hp\\appdata\\local\\programs\\python\\python313\\lib\\site-packages (from openai) (1.9.0)\n",
      "Requirement already satisfied: jiter<1,>=0.10.0 in c:\\users\\hp\\appdata\\local\\programs\\python\\python313\\lib\\site-packages (from openai) (0.11.0)\n",
      "Requirement already satisfied: tqdm>4 in c:\\users\\hp\\appdata\\local\\programs\\python\\python313\\lib\\site-packages (from openai) (4.67.1)\n",
      "Requirement already satisfied: colorama in c:\\users\\hp\\appdata\\roaming\\python\\python313\\site-packages (from click>=7.0->uvicorn) (0.4.6)\n"
     ]
    }
   ],
   "source": [
    "!pip install fastapi uvicorn nest_asyncio pydantic httpx python-dotenv openai\n"
   ]
  },
  {
   "cell_type": "code",
   "execution_count": 2,
   "id": "36311ffb",
   "metadata": {},
   "outputs": [],
   "source": [
    "import os\n",
    "import re\n",
    "import json\n",
    "import threading\n",
    "import datetime as dt\n",
    "from typing import List, Optional, Dict, Any\n",
    "\n",
    "from fastapi import FastAPI, HTTPException\n",
    "from fastapi.middleware.cors import CORSMiddleware\n",
    "from pydantic import BaseModel\n",
    "\n",
    "try:\n",
    "    import openai\n",
    "    OPENAI_AVAILABLE = True\n",
    "except Exception:\n",
    "    OPENAI_AVAILABLE = False\n"
   ]
  },
  {
   "cell_type": "code",
   "execution_count": 3,
   "id": "31a826e5",
   "metadata": {},
   "outputs": [],
   "source": [
    "class Task(BaseModel):\n",
    "    id: str\n",
    "    title: str\n",
    "    description: str\n",
    "    duration_days: int\n",
    "    start_after: Optional[List[str]] = []\n",
    "    suggested_start_date: Optional[str] = None\n",
    "    suggested_end_date: Optional[str] = None\n",
    "\n",
    "\n",
    "class PlanResponse(BaseModel):\n",
    "    goal: str\n",
    "    mode: str\n",
    "    timeframe_days: int\n",
    "    tasks: List[Task]\n",
    "    generated_at: str\n"
   ]
  },
  {
   "cell_type": "code",
   "execution_count": 4,
   "id": "a8538267",
   "metadata": {},
   "outputs": [],
   "source": [
    "class Planner:\n",
    "    \"\"\"Planner uses OpenAI if available, otherwise falls back to local deterministic planning.\"\"\"\n",
    "\n",
    "    def __init__(self, openai_api_key: Optional[str] = None, default_timezone: str = 'UTC'):\n",
    "        self.openai_api_key = openai_api_key or os.getenv('OPENAI_API_KEY')\n",
    "        self.default_timezone = default_timezone\n",
    "        if self.openai_api_key and OPENAI_AVAILABLE:\n",
    "            openai.api_key = self.openai_api_key\n",
    "            self.use_openai = True\n",
    "        else:\n",
    "            self.use_openai = False\n",
    "\n",
    "    def extract_timeframe_days(self, goal: str) -> int:\n",
    "        goal_low = goal.lower()\n",
    "        m = re.search(r'(?:in|within|by)?\\s*(\\d+)\\s*days', goal_low)\n",
    "        if m:\n",
    "            return int(m.group(1))\n",
    "        m = re.search(r'(?:in|within|by)?\\s*(\\d+)\\s*weeks', goal_low)\n",
    "        if m:\n",
    "            return int(m.group(1)) * 7\n",
    "        m = re.search(r'(?:in|within|by)?\\s*(\\d+)\\s*months', goal_low)\n",
    "        if m:\n",
    "            return int(m.group(1)) * 30\n",
    "        if re.search(r'launch|release|demo|ship|mvp', goal_low):\n",
    "            return 14\n",
    "        return 28\n",
    "\n",
    "    def local_decompose(self, goal: str, timeframe_days: int) -> List[Task]:\n",
    "        phases = [\n",
    "            (\"Discovery & Requirements\", \"Gather requirements, scope, and success criteria.\"),\n",
    "            (\"High-level Plan\", \"Define milestones, deliverables and acceptance criteria.\"),\n",
    "            (\"Design / Architecture\", \"Design UI/UX, data models and system architecture.\"),\n",
    "            (\"Implementation / Build\", \"Develop features in prioritized order.\"),\n",
    "            (\"Testing & QA\", \"Perform testing and bug fixing.\"),\n",
    "            (\"Launch / Delivery\", \"Deploy and monitor post-launch.\"),\n",
    "        ]\n",
    "        alloc = [0.08, 0.07, 0.15, 0.45, 0.15, 0.10]\n",
    "        base = max(1, timeframe_days)\n",
    "        tasks: List[Task] = []\n",
    "        today = dt.date.today()\n",
    "        cursor = today\n",
    "\n",
    "        for i, (title, desc) in enumerate(phases):\n",
    "            dur = max(1, int(round(base * alloc[i])))\n",
    "            t = Task(\n",
    "                id=f\"T{i+1}\",\n",
    "                title=title,\n",
    "                description=desc,\n",
    "                duration_days=dur,\n",
    "                start_after=[f\"T{i}\"] if i > 0 else [],\n",
    "            )\n",
    "            t.suggested_start_date = cursor.isoformat()\n",
    "            end = cursor + dt.timedelta(days=t.duration_days - 1)\n",
    "            t.suggested_end_date = end.isoformat()\n",
    "            cursor = end + dt.timedelta(days=1)\n",
    "            tasks.append(t)\n",
    "        return tasks\n",
    "\n",
    "    def call_openai(self, goal: str, timeframe_days: int) -> List[Dict[str, Any]]:\n",
    "        prompt = (\n",
    "            f\"Break down this goal into actionable tasks with durations and dependencies. \"\n",
    "            f\"Goal: {goal}\\nTimeframe days: {timeframe_days}\\n\"\n",
    "            f\"Return JSON array with fields: id, title, description, duration_days, start_after (list of ids).\"\n",
    "        )\n",
    "        try:\n",
    "            if not self.use_openai:\n",
    "                raise RuntimeError('OpenAI not configured')\n",
    "            resp = openai.ChatCompletion.create(\n",
    "                model=\"gpt-4o-mini\",\n",
    "                messages=[\n",
    "                    {\"role\": \"system\", \"content\": \"You output only JSON arrays of tasks.\"},\n",
    "                    {\"role\": \"user\", \"content\": prompt},\n",
    "                ],\n",
    "                max_tokens=800,\n",
    "                temperature=0.3,\n",
    "            )\n",
    "            content = resp[\"choices\"][0][\"message\"][\"content\"]\n",
    "            return json.loads(content)\n",
    "        except Exception as e:\n",
    "            print(\"OpenAI planning failed, using local fallback:\", e)\n",
    "            return [t.dict() for t in self.local_decompose(goal, timeframe_days)]\n",
    "\n",
    "    def generate_plan(self, goal: str, mode: str = 'auto') -> PlanResponse:\n",
    "        tf_days = self.extract_timeframe_days(goal)\n",
    "        if mode == 'openai' and self.use_openai:\n",
    "            raw_tasks = self.call_openai(goal, tf_days)\n",
    "            tasks = [Task(**r) for r in raw_tasks]\n",
    "            mode_used = \"openai\"\n",
    "        else:\n",
    "            tasks = self.local_decompose(goal, tf_days)\n",
    "            mode_used = \"local\"\n",
    "        return PlanResponse(\n",
    "            goal=goal,\n",
    "            mode=mode_used,\n",
    "            timeframe_days=tf_days,\n",
    "            tasks=tasks,\n",
    "            generated_at=dt.datetime.utcnow().isoformat() + \"Z\",\n",
    "        )\n"
   ]
  },
  {
   "cell_type": "code",
   "execution_count": 5,
   "id": "2eafbee4",
   "metadata": {},
   "outputs": [],
   "source": [
    "from fastapi import FastAPI, HTTPException\n",
    "from fastapi.middleware.cors import CORSMiddleware\n",
    "\n",
    "app = FastAPI(title=\"Smart Task Planner\", version=\"1.0\")\n",
    "app.add_middleware(\n",
    "    CORSMiddleware, allow_origins=[\"*\"], allow_methods=[\"*\"], allow_headers=[\"*\"]\n",
    ")\n",
    "\n",
    "planner = Planner()\n",
    "\n",
    "class GenerateRequest(BaseModel):\n",
    "    goal: str\n",
    "    mode: Optional[str] = 'auto'\n",
    "\n",
    "@app.post(\"/generate_plan\", response_model=PlanResponse)\n",
    "async def generate_plan(req: GenerateRequest):\n",
    "    if not req.goal.strip():\n",
    "        raise HTTPException(status_code=400, detail=\"Goal is required\")\n",
    "    plan = planner.generate_plan(req.goal, mode=req.mode)\n",
    "    return plan\n",
    "\n",
    "@app.get(\"/health\")\n",
    "async def health():\n",
    "    return {\"status\": \"ok\", \"openai_enabled\": planner.use_openai}\n"
   ]
  },
  {
   "cell_type": "code",
   "execution_count": null,
   "id": "0c7c39f9",
   "metadata": {},
   "outputs": [
    {
     "name": "stderr",
     "output_type": "stream",
     "text": [
      "INFO:     Started server process [20032]\n",
      "INFO:     Waiting for application startup.\n",
      "INFO:     Application startup complete.\n",
      "INFO:     Uvicorn running on http://127.0.0.1:8001 (Press CTRL+C to quit)\n"
     ]
    },
    {
     "name": "stdout",
     "output_type": "stream",
     "text": [
      "INFO:     127.0.0.1:52698 - \"POST /generate_plan HTTP/1.1\" 200 OK\n"
     ]
    },
    {
     "name": "stderr",
     "output_type": "stream",
     "text": [
      "C:\\Users\\HP\\AppData\\Local\\Temp\\ipykernel_20032\\637558352.py:97: DeprecationWarning: datetime.datetime.utcnow() is deprecated and scheduled for removal in a future version. Use timezone-aware objects to represent datetimes in UTC: datetime.datetime.now(datetime.UTC).\n",
      "  generated_at=dt.datetime.utcnow().isoformat() + \"Z\",\n"
     ]
    },
    {
     "name": "stdout",
     "output_type": "stream",
     "text": [
      "INFO:     127.0.0.1:52701 - \"GET /health HTTP/1.1\" 200 OK\n"
     ]
    }
   ],
   "source": [
    "import nest_asyncio\n",
    "import uvicorn\n",
    "\n",
    "nest_asyncio.apply()\n",
    "\n",
    "def run_app():\n",
    "    uvicorn.run(app, host=\"127.0.0.1\", port=8001, log_level=\"info\")\n",
    "\n",
    "thread = threading.Thread(target=run_app, daemon=True)\n",
    "thread.start()\n"
   ]
  },
  {
   "cell_type": "code",
   "execution_count": 7,
   "id": "8a15baaf",
   "metadata": {},
   "outputs": [
    {
     "name": "stdout",
     "output_type": "stream",
     "text": [
      "Status: 200\n",
      "{\n",
      "  \"goal\": \"Launch a product in 2 weeks\",\n",
      "  \"mode\": \"local\",\n",
      "  \"timeframe_days\": 14,\n",
      "  \"tasks\": [\n",
      "    {\n",
      "      \"id\": \"T1\",\n",
      "      \"title\": \"Discovery & Requirements\",\n",
      "      \"description\": \"Gather requirements, scope, and success criteria.\",\n",
      "      \"duration_days\": 1,\n",
      "      \"start_after\": [],\n",
      "      \"suggested_start_date\": \"2025-10-15\",\n",
      "      \"suggested_end_date\": \"2025-10-15\"\n",
      "    },\n",
      "    {\n",
      "      \"id\": \"T2\",\n",
      "      \"title\": \"High-level Plan\",\n",
      "      \"description\": \"Define milestones, deliverables and acceptance criteria.\",\n",
      "      \"duration_days\": 1,\n",
      "      \"start_after\": [\n",
      "        \"T1\"\n",
      "      ],\n",
      "      \"suggested_start_date\": \"2025-10-16\",\n",
      "      \"suggested_end_date\": \"2025-10-16\"\n",
      "    },\n",
      "    {\n",
      "      \"id\": \"T3\",\n",
      "      \"title\": \"Design / Architecture\",\n",
      "      \"description\": \"Design UI/UX, data models and system architecture.\",\n",
      "      \"duration_days\": 2,\n",
      "      \"start_after\": [\n",
      "        \"T2\"\n",
      "      ],\n",
      "      \"suggested_start_date\": \"2025-10-17\",\n",
      "      \"suggested_end_date\": \"2025-10-18\"\n",
      "    },\n",
      "    {\n",
      "      \"id\": \"T4\",\n",
      "      \"title\": \"Implementation / Build\",\n",
      "      \"description\": \"Develop features in prioritized order.\",\n",
      "      \"duration_days\": 6,\n",
      "      \"start_after\": [\n",
      "        \"T3\"\n",
      "      ],\n",
      "      \"suggested_start_date\": \"2025-10-19\",\n",
      "      \"suggested_end_date\": \"2025-10-24\"\n",
      "    },\n",
      "    {\n",
      "      \"id\": \"T5\",\n",
      "      \"title\": \"Testing & QA\",\n",
      "      \"description\": \"Perform testing and bug fixing.\",\n",
      "      \"duration_days\": 2,\n",
      "      \"start_after\": [\n",
      "        \"T4\"\n",
      "      ],\n",
      "      \"suggested_start_date\": \"2025-10-25\",\n",
      "      \"suggested_end_date\": \"2025-10-26\"\n",
      "    },\n",
      "    {\n",
      "      \"id\": \"T6\",\n",
      "      \"title\": \"Launch / Delivery\",\n",
      "      \"description\": \"Deploy and monitor post-launch.\",\n",
      "      \"duration_days\": 1,\n",
      "      \"start_after\": [\n",
      "        \"T5\"\n",
      "      ],\n",
      "      \"suggested_start_date\": \"2025-10-27\",\n",
      "      \"suggested_end_date\": \"2025-10-27\"\n",
      "    }\n",
      "  ],\n",
      "  \"generated_at\": \"2025-10-15T17:00:19.214464Z\"\n",
      "}\n"
     ]
    }
   ],
   "source": [
    "import httpx\n",
    "\n",
    "response = httpx.post(\n",
    "    \"http://127.0.0.1:8001/generate_plan\",\n",
    "    json={\"goal\": \"Launch a product in 2 weeks\", \"mode\": \"local\"}\n",
    ")\n",
    "\n",
    "print(\"Status:\", response.status_code)\n",
    "print(json.dumps(response.json(), indent=2))\n"
   ]
  },
  {
   "cell_type": "code",
   "execution_count": 8,
   "id": "e6c07e62",
   "metadata": {},
   "outputs": [
    {
     "name": "stdout",
     "output_type": "stream",
     "text": [
      "{'status': 'ok', 'openai_enabled': False}\n"
     ]
    }
   ],
   "source": [
    "import httpx\n",
    "print(httpx.get(\"http://127.0.0.1:8001/health\").json())\n"
   ]
  },
  {
   "cell_type": "code",
   "execution_count": 9,
   "id": "94c9f46e",
   "metadata": {},
   "outputs": [
    {
     "name": "stdout",
     "output_type": "stream",
     "text": [
      "Status Code: 200\n",
      "\n",
      "Generated Smart Task Plan:\n",
      "\n",
      "{'goal': 'Launch a new mobile app in 3 weeks', 'mode': 'local', 'timeframe_days': 21, 'tasks': [{'id': 'T1', 'title': 'Discovery & Requirements', 'description': 'Gather requirements, scope, and success criteria.', 'duration_days': 2, 'start_after': [], 'suggested_start_date': '2025-10-15', 'suggested_end_date': '2025-10-16'}, {'id': 'T2', 'title': 'High-level Plan', 'description': 'Define milestones, deliverables and acceptance criteria.', 'duration_days': 1, 'start_after': ['T1'], 'suggested_start_date': '2025-10-17', 'suggested_end_date': '2025-10-17'}, {'id': 'T3', 'title': 'Design / Architecture', 'description': 'Design UI/UX, data models and system architecture.', 'duration_days': 3, 'start_after': ['T2'], 'suggested_start_date': '2025-10-18', 'suggested_end_date': '2025-10-20'}, {'id': 'T4', 'title': 'Implementation / Build', 'description': 'Develop features in prioritized order.', 'duration_days': 9, 'start_after': ['T3'], 'suggested_start_date': '2025-10-21', 'suggested_end_date': '2025-10-29'}, {'id': 'T5', 'title': 'Testing & QA', 'description': 'Perform testing and bug fixing.', 'duration_days': 3, 'start_after': ['T4'], 'suggested_start_date': '2025-10-30', 'suggested_end_date': '2025-11-01'}, {'id': 'T6', 'title': 'Launch / Delivery', 'description': 'Deploy and monitor post-launch.', 'duration_days': 2, 'start_after': ['T5'], 'suggested_start_date': '2025-11-02', 'suggested_end_date': '2025-11-03'}], 'generated_at': '2025-10-15T17:00:25.985150Z'}\n"
     ]
    },
    {
     "name": "stderr",
     "output_type": "stream",
     "text": [
      "C:\\Users\\HP\\AppData\\Local\\Temp\\ipykernel_20032\\637558352.py:97: DeprecationWarning: datetime.datetime.utcnow() is deprecated and scheduled for removal in a future version. Use timezone-aware objects to represent datetimes in UTC: datetime.datetime.now(datetime.UTC).\n",
      "  generated_at=dt.datetime.utcnow().isoformat() + \"Z\",\n"
     ]
    }
   ],
   "source": [
    "# Step 6: Test the Smart Task Planner API inside Jupyter\n",
    "\n",
    "from fastapi.testclient import TestClient\n",
    "\n",
    "client = TestClient(app)\n",
    "\n",
    "# You can change this goal text to anything you want\n",
    "goal_input = {\n",
    "    \"goal\": \"Launch a new mobile app in 3 weeks\"\n",
    "}\n",
    "\n",
    "response = client.post(\"/generate_plan\", json=goal_input)\n",
    "\n",
    "print(\"Status Code:\", response.status_code)\n",
    "print(\"\\nGenerated Smart Task Plan:\\n\")\n",
    "print(response.json())\n"
   ]
  },
  {
   "cell_type": "code",
   "execution_count": 10,
   "id": "5eac9acf",
   "metadata": {},
   "outputs": [
    {
     "name": "stdout",
     "output_type": "stream",
     "text": [
      "✅ index.html frontend created successfully!\n"
     ]
    }
   ],
   "source": [
    "# Step 7: Create index.html frontend for Smart Task Planner\n",
    "\n",
    "html_code = \"\"\"\n",
    "<!DOCTYPE html>\n",
    "<html lang=\"en\">\n",
    "<head>\n",
    "  <meta charset=\"UTF-8\" />\n",
    "  <meta name=\"viewport\" content=\"width=device-width, initial-scale=1.0\" />\n",
    "  <title>Smart Task Planner</title>\n",
    "  <style>\n",
    "    body {\n",
    "      font-family: 'Segoe UI', Tahoma, Geneva, Verdana, sans-serif;\n",
    "      background-color: #f3f4f6;\n",
    "      color: #333;\n",
    "      margin: 0;\n",
    "      padding: 2rem;\n",
    "      display: flex;\n",
    "      flex-direction: column;\n",
    "      align-items: center;\n",
    "    }\n",
    "    h1 {\n",
    "      color: #2563eb;\n",
    "    }\n",
    "    textarea {\n",
    "      width: 400px;\n",
    "      height: 100px;\n",
    "      padding: 10px;\n",
    "      border-radius: 8px;\n",
    "      border: 1px solid #ccc;\n",
    "      font-size: 1rem;\n",
    "      margin-bottom: 1rem;\n",
    "    }\n",
    "    button {\n",
    "      background-color: #2563eb;\n",
    "      color: white;\n",
    "      border: none;\n",
    "      padding: 10px 20px;\n",
    "      border-radius: 8px;\n",
    "      cursor: pointer;\n",
    "      font-size: 1rem;\n",
    "    }\n",
    "    button:hover {\n",
    "      background-color: #1e40af;\n",
    "    }\n",
    "    #output {\n",
    "      margin-top: 2rem;\n",
    "      width: 500px;\n",
    "      background: white;\n",
    "      padding: 1rem;\n",
    "      border-radius: 10px;\n",
    "      box-shadow: 0 2px 6px rgba(0,0,0,0.1);\n",
    "    }\n",
    "    .task-item {\n",
    "      margin-bottom: 8px;\n",
    "      border-bottom: 1px dashed #ddd;\n",
    "      padding-bottom: 6px;\n",
    "    }\n",
    "  </style>\n",
    "</head>\n",
    "<body>\n",
    "  <h1>🧠 Smart Task Planner</h1>\n",
    "  <textarea id=\"goalInput\" placeholder=\"Enter your goal (e.g., Launch a product in 2 weeks)...\"></textarea>\n",
    "  <br />\n",
    "  <button onclick=\"generatePlan()\">Generate Plan</button>\n",
    "  <div id=\"output\"></div>\n",
    "\n",
    "  <script>\n",
    "    async function generatePlan() {\n",
    "      const goalText = document.getElementById('goalInput').value.trim();\n",
    "      const output = document.getElementById('output');\n",
    "      output.innerHTML = '<p>⏳ Generating plan...</p>';\n",
    "\n",
    "      const response = await fetch('/generate_plan', {\n",
    "        method: 'POST',\n",
    "        headers: { 'Content-Type': 'application/json' },\n",
    "        body: JSON.stringify({ goal: goalText })\n",
    "      });\n",
    "\n",
    "      const data = await response.json();\n",
    "      output.innerHTML = '<h2>🗂️ Task Plan:</h2>';\n",
    "      data.tasks.forEach((t, i) => {\n",
    "        output.innerHTML += `\n",
    "          <div class=\"task-item\">\n",
    "            <b>${i + 1}. ${t.task}</b><br>\n",
    "            Deadline: ${t.deadline}<br>\n",
    "            Depends on: ${t.dependency || 'None'}\n",
    "          </div>\n",
    "        `;\n",
    "      });\n",
    "    }\n",
    "  </script>\n",
    "</body>\n",
    "</html>\n",
    "\"\"\"\n",
    "\n",
    "with open(\"index.html\", \"w\", encoding=\"utf-8\") as f:\n",
    "    f.write(html_code)\n",
    "\n",
    "print(\"✅ index.html frontend created successfully!\")\n"
   ]
  },
  {
   "cell_type": "code",
   "execution_count": 11,
   "id": "d242be70",
   "metadata": {},
   "outputs": [],
   "source": [
    "# Step 8: Serve the HTML frontend from FastAPI\n",
    "\n",
    "from fastapi.responses import FileResponse\n",
    "\n",
    "@app.get(\"/\")\n",
    "def serve_frontend():\n",
    "    return FileResponse(\"index.html\")\n"
   ]
  },
  {
   "cell_type": "code",
   "execution_count": 12,
   "id": "c9f9bcdd",
   "metadata": {},
   "outputs": [],
   "source": [
    "# Step 8: Serve the HTML frontend from FastAPI\n",
    "\n",
    "from fastapi.responses import FileResponse\n",
    "\n",
    "@app.get(\"/\")\n",
    "def serve_frontend():\n",
    "    return FileResponse(\"index.html\")\n"
   ]
  },
  {
   "cell_type": "code",
   "execution_count": null,
   "id": "b77b290e",
   "metadata": {},
   "outputs": [
    {
     "name": "stdout",
     "output_type": "stream",
     "text": [
      "🚀 Smart Task Planner is running at http://127.0.0.1:8000\n"
     ]
    },
    {
     "name": "stderr",
     "output_type": "stream",
     "text": [
      "INFO:     Started server process [20032]\n",
      "INFO:     Waiting for application startup.\n",
      "INFO:     Application startup complete.\n",
      "INFO:     Uvicorn running on http://0.0.0.0:8000 (Press CTRL+C to quit)\n"
     ]
    },
    {
     "name": "stdout",
     "output_type": "stream",
     "text": [
      "INFO:     127.0.0.1:51362 - \"OPTIONS /generate_plan HTTP/1.1\" 200 OK\n",
      "INFO:     127.0.0.1:51362 - \"POST /generate_plan HTTP/1.1\" 200 OK\n"
     ]
    },
    {
     "name": "stderr",
     "output_type": "stream",
     "text": [
      "C:\\Users\\HP\\AppData\\Local\\Temp\\ipykernel_20032\\637558352.py:97: DeprecationWarning: datetime.datetime.utcnow() is deprecated and scheduled for removal in a future version. Use timezone-aware objects to represent datetimes in UTC: datetime.datetime.now(datetime.UTC).\n",
      "  generated_at=dt.datetime.utcnow().isoformat() + \"Z\",\n"
     ]
    },
    {
     "name": "stdout",
     "output_type": "stream",
     "text": [
      "INFO:     127.0.0.1:51911 - \"OPTIONS /generate_plan HTTP/1.1\" 200 OK\n",
      "INFO:     127.0.0.1:51911 - \"POST /generate_plan HTTP/1.1\" 200 OK\n"
     ]
    }
   ],
   "source": [
    "# ✅ Step 9 (Fixed): Run FastAPI app inside Jupyter safely\n",
    "import nest_asyncio\n",
    "import uvicorn\n",
    "import asyncio\n",
    "\n",
    "nest_asyncio.apply()\n",
    "\n",
    "config = uvicorn.Config(app=app, host=\"0.0.0.0\", port=8000)\n",
    "server = uvicorn.Server(config)\n",
    "\n",
    "# Use asyncio.create_task so it runs in background\n",
    "asyncio.create_task(server.serve())\n",
    "\n",
    "print(\"🚀 Smart Task Planner is running at http://127.0.0.1:8000\")\n"
   ]
  }
 ],
 "metadata": {
  "kernelspec": {
   "display_name": "Python 3",
   "language": "python",
   "name": "python3"
  },
  "language_info": {
   "codemirror_mode": {
    "name": "ipython",
    "version": 3
   },
   "file_extension": ".py",
   "mimetype": "text/x-python",
   "name": "python",
   "nbconvert_exporter": "python",
   "pygments_lexer": "ipython3",
   "version": "3.13.9"
  }
 },
 "nbformat": 4,
 "nbformat_minor": 5
}
